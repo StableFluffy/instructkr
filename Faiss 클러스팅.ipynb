{
 "cells": [
  {
   "cell_type": "code",
   "execution_count": null,
   "id": "7f4f1240",
   "metadata": {},
   "outputs": [],
   "source": [
    "import faiss\n",
    "import numpy as np\n",
    "from sentence_transformers import SentenceTransformer\n",
    "from datasets import load_dataset\n",
    "\n",
    "# FAISS를 사용한 KMeans 클러스터링 클래스\n",
    "class FaissKMeans:\n",
    "    def __init__(self, n_clusters=8, n_init=10, max_iter=300):\n",
    "        self.n_clusters = n_clusters\n",
    "        self.n_init = n_init\n",
    "        self.max_iter = max_iter\n",
    "        self.kmeans = None\n",
    "        self.cluster_centers_ = None\n",
    "        self.inertia_ = None\n",
    "\n",
    "    def fit(self, X):\n",
    "        self.kmeans = faiss.Kmeans(d=X.shape[1], k=self.n_clusters,\n",
    "                                   niter=self.max_iter, nredo=self.n_init)\n",
    "        self.kmeans.train(X.astype(np.float32))\n",
    "        self.cluster_centers_ = self.kmeans.centroids\n",
    "        self.inertia_ = self.kmeans.obj[-1]\n",
    "\n",
    "    def predict(self, X):\n",
    "        _, I = self.kmeans.index.search(X.astype(np.float32), 1)\n",
    "        return I.squeeze()\n",
    "\n",
    "# 문장 임베딩 모델 로드\n",
    "model = SentenceTransformer('sentence-transformers/paraphrase-multilingual-MiniLM-L12-v2') # 이거 좋음 ㅇㅇ\n",
    "\n",
    "# 데이터셋 불러오기\n",
    "dataset = load_dataset(\"maywell/synatra_solar_ko\", split=\"train\")\n",
    "\n",
    "# 'text' 칼럼의 문장들을 임베딩\n",
    "embeddings = model.encode(dataset['output'], show_progress_bar=True)"
   ]
  },
  {
   "cell_type": "code",
   "execution_count": null,
   "id": "a2d258f5",
   "metadata": {},
   "outputs": [],
   "source": [
    "faiss_kmeans = FaissKMeans(n_clusters=6, n_init=50, max_iter=600)\n",
    "faiss_kmeans.fit(embeddings)\n",
    "cluster_assignments = faiss_kmeans.predict(embeddings)"
   ]
  },
  {
   "cell_type": "code",
   "execution_count": null,
   "id": "59741e50",
   "metadata": {},
   "outputs": [],
   "source": [
    "k = 0\n",
    "# 결과 출력 (예시: 각 클러스터에 속하는 첫 번째 문장 출력)\n",
    "for i in range(6):\n",
    "    cluster_indices = [index for index, cluster_id in enumerate(cluster_assignments) if cluster_id == i]\n",
    "    print(f\"Cluster {i+1}:\")\n",
    "    print(len(cluster_indices))\n",
    "    k += len(cluster_indices)\n",
    "    for j in cluster_indices[:1]:  # 각 클러스터에서 첫 번째 문장만 출력\n",
    "        print(dataset['output'][j])\n",
    "    print(\"\\n\")\n",
    "    \n",
    "print(f\"총 {k}개\")"
   ]
  },
  {
   "cell_type": "code",
   "execution_count": null,
   "id": "bd918081",
   "metadata": {},
   "outputs": [],
   "source": [
    "from datasets import Dataset\n",
    "from tqdm.auto import tqdm\n",
    "\n",
    "def create_cluster_data(example, index, cluster_assignments):\n",
    "    # 해당 데이터가 속한 클러스터를 확인하고 클러스터 ID를 반환\n",
    "    cluster_id = cluster_assignments[index]\n",
    "    return {'cluster_id': cluster_id}\n",
    "\n",
    "# 각 데이터에 대한 클러스터 ID 할당\n",
    "with tqdm(total=len(dataset), desc=\"Processing clusters\") as pbar:\n",
    "    cluster_dataset = dataset.map(create_cluster_data, with_indices=True, num_proc=4, \n",
    "                                  batched=False, fn_kwargs={\"cluster_assignments\": cluster_assignments},\n",
    "                                  )\n"
   ]
  },
  {
   "cell_type": "code",
   "execution_count": null,
   "id": "dc1f3273",
   "metadata": {},
   "outputs": [],
   "source": [
    "# 각 클러스터 별로 데이터셋 분리 및 업로드\n",
    "for i in range(faiss_kmeans.n_clusters):\n",
    "    # 해당 클러스터에 속하는 데이터 필터링\n",
    "    cluster_data = cluster_dataset.filter(lambda x: x['cluster_id'] == i)\n",
    "\n",
    "    # 필요한 컬럼만 선택\n",
    "    cluster_data = cluster_data.map(lambda x: {'instruction': x['instruction'], 'output': x['output']})\n",
    "\n",
    "    # Hugging Face Hub에 업로드\n",
    "    cluster_data.push_to_hub(f\"maywell/cluster_{i}\")"
   ]
  },
  {
   "cell_type": "code",
   "execution_count": null,
   "id": "925ec8a2",
   "metadata": {},
   "outputs": [],
   "source": [
    "# Mergekit config\n",
    "import yaml\n",
    "import random\n",
    "\n",
    "# YAML 파일에 들어갈 기본 구조 설정\n",
    "yaml_data = {\n",
    "    'base_model': './out-merge-2',\n",
    "    'gate_mode': 'hidden',\n",
    "    'dtype': 'bfloat16',\n",
    "    'experts': []\n",
    "}\n",
    "\n",
    "# 각 클러스터에 대한 데이터 추가\n",
    "for i in range(faiss_kmeans.n_clusters):\n",
    "    # 해당 클러스터 데이터셋 필터링\n",
    "    cluster_data = cluster_dataset.filter(lambda x: x['cluster_id'] == i)\n",
    "\n",
    "    # 무작위로 100개의 'output' 샘플 선택\n",
    "    positive_prompts = random.sample(cluster_data['output'], min(100, len(cluster_data['output'])))\n",
    "\n",
    "    # 클러스터 별 전문가 모델 정보 추가\n",
    "    yaml_data['experts'].append({\n",
    "        'source_model': f'./cluster-{i}',\n",
    "        'positive_prompts': positive_prompts\n",
    "    })\n",
    "\n",
    "# YAML 파일로 저장\n",
    "with open('config.yml', 'w') as file:\n",
    "    yaml.dump(yaml_data, file, sort_keys=False, allow_unicode=True)\n"
   ]
  },
  {
   "cell_type": "code",
   "execution_count": null,
   "id": "167aec62",
   "metadata": {},
   "outputs": [],
   "source": []
  }
 ],
 "metadata": {
  "kernelspec": {
   "display_name": "Python (faiss)",
   "language": "python",
   "name": "faiss"
  },
  "language_info": {
   "codemirror_mode": {
    "name": "ipython",
    "version": 3
   },
   "file_extension": ".py",
   "mimetype": "text/x-python",
   "name": "python",
   "nbconvert_exporter": "python",
   "pygments_lexer": "ipython3",
   "version": "3.8.18"
  }
 },
 "nbformat": 4,
 "nbformat_minor": 5
}
